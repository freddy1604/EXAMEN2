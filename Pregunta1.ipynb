{
 "cells": [
  {
   "cell_type": "markdown",
   "metadata": {},
   "source": [
    "# ESCUELA POLITECNICNICA NACIONAL\n",
    "- Nombre: Freddy Jimenez\n",
    "- Curso: Gr1cc\n",
    "- Fecha: 06/02/2025"
   ]
  },
  {
   "cell_type": "markdown",
   "metadata": {},
   "source": []
  }
 ],
 "metadata": {
  "language_info": {
   "name": "python"
  }
 },
 "nbformat": 4,
 "nbformat_minor": 2
}
